{
 "cells": [
  {
   "cell_type": "code",
   "execution_count": 193,
   "id": "20ca2814-fb37-4ba5-9ea6-6a86b5f7157a",
   "metadata": {},
   "outputs": [],
   "source": [
    "import pandas as pd \n",
    "import numpy as np "
   ]
  },
  {
   "cell_type": "code",
   "execution_count": 194,
   "id": "711c74dc-264f-4205-bf73-0bb73be4c0a6",
   "metadata": {},
   "outputs": [],
   "source": [
    "def generate_time_series(sample_size, n_steps): \n",
    "    freq1, freq2, offsets1, offsets2 = np.random.rand(4, sample_size, 1) \n",
    "    time = np.linspace(0, 1, n_steps) \n",
    "    series = 0.5 * np.sin((time - offsets1) * (freq1 * 10 + 10)) #wave1+ \n",
    "    series += 0.2 * np.sin((time - offsets2) * (freq2 * 20 + 20)) #wave2+ \n",
    "    series += 0.1 * (np.random.rand(sample_size, n_steps) - 0.5)  #noise \n",
    "    return series[..., np.newaxis].astype(np.float32)"
   ]
  },
  {
   "cell_type": "markdown",
   "id": "3b7e5247-86e6-481a-bd60-a5e0609b2d63",
   "metadata": {},
   "source": [
    "# A) Create a dataset of 10,000 samples with 51 time steps each (Note: the 51st time step should be used as the label) "
   ]
  },
  {
   "cell_type": "code",
   "execution_count": 195,
   "id": "727378f4-3b81-4923-8000-65cf37ad534e",
   "metadata": {},
   "outputs": [],
   "source": [
    "df=generate_time_series(10000,51)"
   ]
  },
  {
   "cell_type": "code",
   "execution_count": 211,
   "id": "a2865095-9033-475b-9360-c9f28d5fb202",
   "metadata": {},
   "outputs": [],
   "source": [
    "x=df[:,:-1,:]"
   ]
  },
  {
   "cell_type": "code",
   "execution_count": 212,
   "id": "f6314adc-c47a-465d-a5d7-df2785678868",
   "metadata": {},
   "outputs": [
    {
     "data": {
      "text/plain": [
       "(10000, 50, 1)"
      ]
     },
     "execution_count": 212,
     "metadata": {},
     "output_type": "execute_result"
    }
   ],
   "source": [
    "x.shape"
   ]
  },
  {
   "cell_type": "code",
   "execution_count": 213,
   "id": "ae250ab0-abae-4e6c-8446-7f8c0ba041c2",
   "metadata": {},
   "outputs": [],
   "source": [
    "y=df[:,-1,:]"
   ]
  },
  {
   "cell_type": "code",
   "execution_count": 214,
   "id": "59022e57-baad-491a-bcd5-651a3f55cef3",
   "metadata": {},
   "outputs": [
    {
     "data": {
      "text/plain": [
       "(10000, 1)"
      ]
     },
     "execution_count": 214,
     "metadata": {},
     "output_type": "execute_result"
    }
   ],
   "source": [
    "y.shape"
   ]
  },
  {
   "cell_type": "markdown",
   "id": "c537a212-7354-432c-b26a-0ffb9289089e",
   "metadata": {},
   "source": [
    "# B) Split the dataset in the ratio training: validation: testing = 70:20:10. "
   ]
  },
  {
   "cell_type": "code",
   "execution_count": 215,
   "id": "81d28941-5df6-4146-a971-9ed59cfddd9b",
   "metadata": {},
   "outputs": [],
   "source": [
    "from sklearn.model_selection import train_test_split"
   ]
  },
  {
   "cell_type": "code",
   "execution_count": 216,
   "id": "2350ea5d-1c55-495d-9900-b1c6535f27be",
   "metadata": {},
   "outputs": [],
   "source": [
    "x_train,X_test,y_train,Y_test = train_test_split(x,y, test_size=0.3, shuffle=False)"
   ]
  },
  {
   "cell_type": "code",
   "execution_count": 217,
   "id": "9f948960-7ba7-4855-8319-7a90bfeeceaa",
   "metadata": {},
   "outputs": [],
   "source": [
    "x_test,x_val,y_test,y_val = train_test_split(X_test,Y_test, test_size=0.33333, shuffle=False)"
   ]
  },
  {
   "cell_type": "code",
   "execution_count": 218,
   "id": "ce3cfa17-b4e9-4ac0-bf3e-0c3368637605",
   "metadata": {},
   "outputs": [
    {
     "name": "stdout",
     "output_type": "stream",
     "text": [
      "Training set shapes: (7000, 50, 1) (7000, 1)\n",
      "Validation set shapes: (1000, 50, 1) (1000, 1)\n",
      "Testing set shapes: (2000, 50, 1) (2000, 1)\n"
     ]
    }
   ],
   "source": [
    "print(\"Training set shapes:\", x_train.shape, y_train.shape)\n",
    "print(\"Validation set shapes:\", x_val.shape, y_val.shape)\n",
    "print(\"Testing set shapes:\", x_test.shape, y_test.shape)"
   ]
  },
  {
   "cell_type": "markdown",
   "id": "2ea5349a-1063-4d25-bb9d-370741bd425e",
   "metadata": {},
   "source": [
    "# C) Design, train, test and compare the performances of the following on the prediction of the value of  51st time step in the generated time series.  . "
   ]
  },
  {
   "cell_type": "markdown",
   "id": "fddedc2e-bb4b-48ac-bfba-b00a2b690c36",
   "metadata": {},
   "source": [
    "## a. Fully connected neural network."
   ]
  },
  {
   "cell_type": "code",
   "execution_count": 219,
   "id": "d6bf5aa5-ca7c-4218-bb5f-2106b9515eb3",
   "metadata": {},
   "outputs": [],
   "source": [
    "import tensorflow as tf "
   ]
  },
  {
   "cell_type": "code",
   "execution_count": 205,
   "id": "7d6d56bf-0d00-461d-9433-102221a7c129",
   "metadata": {},
   "outputs": [],
   "source": [
    "from tensorflow.keras.models import Sequential\n",
    "from tensorflow.keras.layers import Input,Flatten,Dense"
   ]
  },
  {
   "cell_type": "code",
   "execution_count": 207,
   "id": "d09ca546-f261-4ade-a9df-747f9bd5550e",
   "metadata": {},
   "outputs": [],
   "source": [
    "ann=Sequential([\n",
    "    Flatten(input_shape=[50,1]),\n",
    "    Dense(1000,activation='relu'),\n",
    "    Dense(500,activation='relu'),\n",
    "    Dense(100,activation='relu'),\n",
    "    Dense(1,activation='relu') # output layer\n",
    "])"
   ]
  },
  {
   "cell_type": "markdown",
   "id": "1d9a9bea-97d8-4134-81c3-ab0b6057b6bf",
   "metadata": {},
   "source": [
    "In the context of training a neural network for regression tasks (predicting a continuous value), using Mean Squared Error (MSE) as the loss function and Mean Absolute Error (MAE) as the evaluation metric is common practice. Here's why:"
   ]
  },
  {
   "cell_type": "code",
   "execution_count": 208,
   "id": "20945ccb-a686-444e-bede-c9ccb3f5270f",
   "metadata": {},
   "outputs": [],
   "source": [
    "ann.compile(optimizer='adam', loss='mse', metrics=['mae'])"
   ]
  },
  {
   "cell_type": "code",
   "execution_count": 210,
   "id": "9308d235-f951-48d3-a24a-16bbfe47d38d",
   "metadata": {},
   "outputs": [
    {
     "data": {
      "text/plain": [
       "(7000, 50, 1)"
      ]
     },
     "execution_count": 210,
     "metadata": {},
     "output_type": "execute_result"
    }
   ],
   "source": [
    "x_train.shape"
   ]
  },
  {
   "cell_type": "code",
   "execution_count": 152,
   "id": "fd264c20-623c-4f1b-97c8-b13abac6a695",
   "metadata": {},
   "outputs": [
    {
     "name": "stdout",
     "output_type": "stream",
     "text": [
      "Epoch 1/10\n",
      "\u001b[1m219/219\u001b[0m \u001b[32m━━━━━━━━━━━━━━━━━━━━\u001b[0m\u001b[37m\u001b[0m \u001b[1m3s\u001b[0m 7ms/step - accuracy: 0.0000e+00 - loss: 0.0649 - val_accuracy: 0.0000e+00 - val_loss: 0.0620\n",
      "Epoch 2/10\n",
      "\u001b[1m219/219\u001b[0m \u001b[32m━━━━━━━━━━━━━━━━━━━━\u001b[0m\u001b[37m\u001b[0m \u001b[1m1s\u001b[0m 6ms/step - accuracy: 0.0000e+00 - loss: 0.0677 - val_accuracy: 0.0000e+00 - val_loss: 0.0616\n",
      "Epoch 3/10\n",
      "\u001b[1m219/219\u001b[0m \u001b[32m━━━━━━━━━━━━━━━━━━━━\u001b[0m\u001b[37m\u001b[0m \u001b[1m1s\u001b[0m 6ms/step - accuracy: 0.0000e+00 - loss: 0.0671 - val_accuracy: 0.0000e+00 - val_loss: 0.0617\n",
      "Epoch 4/10\n",
      "\u001b[1m219/219\u001b[0m \u001b[32m━━━━━━━━━━━━━━━━━━━━\u001b[0m\u001b[37m\u001b[0m \u001b[1m1s\u001b[0m 6ms/step - accuracy: 0.0000e+00 - loss: 0.0658 - val_accuracy: 0.0000e+00 - val_loss: 0.0619\n",
      "Epoch 5/10\n",
      "\u001b[1m219/219\u001b[0m \u001b[32m━━━━━━━━━━━━━━━━━━━━\u001b[0m\u001b[37m\u001b[0m \u001b[1m1s\u001b[0m 7ms/step - accuracy: 0.0000e+00 - loss: 0.0678 - val_accuracy: 0.0000e+00 - val_loss: 0.0616\n",
      "Epoch 6/10\n",
      "\u001b[1m219/219\u001b[0m \u001b[32m━━━━━━━━━━━━━━━━━━━━\u001b[0m\u001b[37m\u001b[0m \u001b[1m2s\u001b[0m 7ms/step - accuracy: 0.0000e+00 - loss: 0.0648 - val_accuracy: 0.0000e+00 - val_loss: 0.0617\n",
      "Epoch 7/10\n",
      "\u001b[1m219/219\u001b[0m \u001b[32m━━━━━━━━━━━━━━━━━━━━\u001b[0m\u001b[37m\u001b[0m \u001b[1m1s\u001b[0m 6ms/step - accuracy: 0.0000e+00 - loss: 0.0659 - val_accuracy: 0.0000e+00 - val_loss: 0.0616\n",
      "Epoch 8/10\n",
      "\u001b[1m219/219\u001b[0m \u001b[32m━━━━━━━━━━━━━━━━━━━━\u001b[0m\u001b[37m\u001b[0m \u001b[1m1s\u001b[0m 6ms/step - accuracy: 0.0000e+00 - loss: 0.0648 - val_accuracy: 0.0000e+00 - val_loss: 0.0616\n",
      "Epoch 9/10\n",
      "\u001b[1m219/219\u001b[0m \u001b[32m━━━━━━━━━━━━━━━━━━━━\u001b[0m\u001b[37m\u001b[0m \u001b[1m1s\u001b[0m 6ms/step - accuracy: 0.0000e+00 - loss: 0.0681 - val_accuracy: 0.0000e+00 - val_loss: 0.0615\n",
      "Epoch 10/10\n",
      "\u001b[1m219/219\u001b[0m \u001b[32m━━━━━━━━━━━━━━━━━━━━\u001b[0m\u001b[37m\u001b[0m \u001b[1m1s\u001b[0m 7ms/step - accuracy: 0.0000e+00 - loss: 0.0648 - val_accuracy: 0.0000e+00 - val_loss: 0.0619\n"
     ]
    }
   ],
   "source": [
    "ans = ann.fit(x_train, y_train, validation_data=(x_val, y_val), epochs=10, batch_size=32)"
   ]
  },
  {
   "cell_type": "code",
   "execution_count": 148,
   "id": "42e38441-6c6d-46d0-80ed-2676756681a8",
   "metadata": {},
   "outputs": [
    {
     "name": "stdout",
     "output_type": "stream",
     "text": [
      "Test loss: 0.06616664677858353, Test MAE: 0.17127029597759247\n"
     ]
    }
   ],
   "source": [
    "test_loss, test_mae = ann.evaluate(x_test, y_test, verbose=0)\n",
    "print(f\"Test loss: {test_loss}, Test MAE: {test_mae}\")\n"
   ]
  },
  {
   "cell_type": "markdown",
   "id": "fa551c72-934f-4fc3-9803-fbab98511b69",
   "metadata": {},
   "source": [
    "## b. Simple RNN with one layer (output layer) "
   ]
  },
  {
   "cell_type": "code",
   "execution_count": 181,
   "id": "d8342518-2d8f-41c8-aa3d-d8ece3703b9f",
   "metadata": {},
   "outputs": [],
   "source": [
    "from tensorflow.keras.layers import SimpleRNN"
   ]
  },
  {
   "cell_type": "code",
   "execution_count": 182,
   "id": "dca75ca7-2290-47b6-9154-a3003aa5d3ae",
   "metadata": {},
   "outputs": [
    {
     "name": "stderr",
     "output_type": "stream",
     "text": [
      "C:\\Users\\godof\\anaconda3\\Lib\\site-packages\\keras\\src\\layers\\rnn\\rnn.py:204: UserWarning: Do not pass an `input_shape`/`input_dim` argument to a layer. When using Sequential models, prefer using an `Input(shape)` object as the first layer in the model instead.\n",
      "  super().__init__(**kwargs)\n"
     ]
    }
   ],
   "source": [
    "rnn1 = Sequential([\n",
    "SimpleRNN(20,input_shape=[50, 1]),\n",
    "    Dense(1)\n",
    "])"
   ]
  },
  {
   "cell_type": "code",
   "execution_count": 183,
   "id": "3f7dd6b5-fb45-46ff-9bca-7c118ef013d8",
   "metadata": {},
   "outputs": [],
   "source": [
    "rnn1.compile(optimizer='adam',loss='mse',metrics=['mae'])"
   ]
  },
  {
   "cell_type": "code",
   "execution_count": 184,
   "id": "b12b204e-7637-4fe2-84f2-ccafa3d7ee09",
   "metadata": {},
   "outputs": [
    {
     "name": "stdout",
     "output_type": "stream",
     "text": [
      "Epoch 1/20\n",
      "\u001b[1m219/219\u001b[0m \u001b[32m━━━━━━━━━━━━━━━━━━━━\u001b[0m\u001b[37m\u001b[0m \u001b[1m3s\u001b[0m 4ms/step - loss: 0.0793 - mae: 0.2161 - val_loss: 0.0130 - val_mae: 0.0913\n",
      "Epoch 2/20\n",
      "\u001b[1m219/219\u001b[0m \u001b[32m━━━━━━━━━━━━━━━━━━━━\u001b[0m\u001b[37m\u001b[0m \u001b[1m1s\u001b[0m 3ms/step - loss: 0.0104 - mae: 0.0816 - val_loss: 0.0071 - val_mae: 0.0674\n",
      "Epoch 3/20\n",
      "\u001b[1m219/219\u001b[0m \u001b[32m━━━━━━━━━━━━━━━━━━━━\u001b[0m\u001b[37m\u001b[0m \u001b[1m1s\u001b[0m 3ms/step - loss: 0.0065 - mae: 0.0645 - val_loss: 0.0053 - val_mae: 0.0585\n",
      "Epoch 4/20\n",
      "\u001b[1m219/219\u001b[0m \u001b[32m━━━━━━━━━━━━━━━━━━━━\u001b[0m\u001b[37m\u001b[0m \u001b[1m1s\u001b[0m 4ms/step - loss: 0.0051 - mae: 0.0572 - val_loss: 0.0045 - val_mae: 0.0535\n",
      "Epoch 5/20\n",
      "\u001b[1m219/219\u001b[0m \u001b[32m━━━━━━━━━━━━━━━━━━━━\u001b[0m\u001b[37m\u001b[0m \u001b[1m1s\u001b[0m 3ms/step - loss: 0.0043 - mae: 0.0527 - val_loss: 0.0042 - val_mae: 0.0516\n",
      "Epoch 6/20\n",
      "\u001b[1m219/219\u001b[0m \u001b[32m━━━━━━━━━━━━━━━━━━━━\u001b[0m\u001b[37m\u001b[0m \u001b[1m1s\u001b[0m 3ms/step - loss: 0.0040 - mae: 0.0504 - val_loss: 0.0036 - val_mae: 0.0480\n",
      "Epoch 7/20\n",
      "\u001b[1m219/219\u001b[0m \u001b[32m━━━━━━━━━━━━━━━━━━━━\u001b[0m\u001b[37m\u001b[0m \u001b[1m1s\u001b[0m 3ms/step - loss: 0.0037 - mae: 0.0491 - val_loss: 0.0036 - val_mae: 0.0478\n",
      "Epoch 8/20\n",
      "\u001b[1m219/219\u001b[0m \u001b[32m━━━━━━━━━━━━━━━━━━━━\u001b[0m\u001b[37m\u001b[0m \u001b[1m1s\u001b[0m 3ms/step - loss: 0.0035 - mae: 0.0475 - val_loss: 0.0034 - val_mae: 0.0464\n",
      "Epoch 9/20\n",
      "\u001b[1m219/219\u001b[0m \u001b[32m━━━━━━━━━━━━━━━━━━━━\u001b[0m\u001b[37m\u001b[0m \u001b[1m1s\u001b[0m 3ms/step - loss: 0.0034 - mae: 0.0468 - val_loss: 0.0033 - val_mae: 0.0462\n",
      "Epoch 10/20\n",
      "\u001b[1m219/219\u001b[0m \u001b[32m━━━━━━━━━━━━━━━━━━━━\u001b[0m\u001b[37m\u001b[0m \u001b[1m1s\u001b[0m 3ms/step - loss: 0.0034 - mae: 0.0470 - val_loss: 0.0033 - val_mae: 0.0461\n",
      "Epoch 11/20\n",
      "\u001b[1m219/219\u001b[0m \u001b[32m━━━━━━━━━━━━━━━━━━━━\u001b[0m\u001b[37m\u001b[0m \u001b[1m1s\u001b[0m 3ms/step - loss: 0.0034 - mae: 0.0469 - val_loss: 0.0032 - val_mae: 0.0452\n",
      "Epoch 12/20\n",
      "\u001b[1m219/219\u001b[0m \u001b[32m━━━━━━━━━━━━━━━━━━━━\u001b[0m\u001b[37m\u001b[0m \u001b[1m1s\u001b[0m 3ms/step - loss: 0.0033 - mae: 0.0465 - val_loss: 0.0032 - val_mae: 0.0453\n",
      "Epoch 13/20\n",
      "\u001b[1m219/219\u001b[0m \u001b[32m━━━━━━━━━━━━━━━━━━━━\u001b[0m\u001b[37m\u001b[0m \u001b[1m1s\u001b[0m 4ms/step - loss: 0.0033 - mae: 0.0462 - val_loss: 0.0031 - val_mae: 0.0446\n",
      "Epoch 14/20\n",
      "\u001b[1m219/219\u001b[0m \u001b[32m━━━━━━━━━━━━━━━━━━━━\u001b[0m\u001b[37m\u001b[0m \u001b[1m1s\u001b[0m 3ms/step - loss: 0.0033 - mae: 0.0465 - val_loss: 0.0031 - val_mae: 0.0446\n",
      "Epoch 15/20\n",
      "\u001b[1m219/219\u001b[0m \u001b[32m━━━━━━━━━━━━━━━━━━━━\u001b[0m\u001b[37m\u001b[0m \u001b[1m1s\u001b[0m 3ms/step - loss: 0.0032 - mae: 0.0453 - val_loss: 0.0031 - val_mae: 0.0448\n",
      "Epoch 16/20\n",
      "\u001b[1m219/219\u001b[0m \u001b[32m━━━━━━━━━━━━━━━━━━━━\u001b[0m\u001b[37m\u001b[0m \u001b[1m1s\u001b[0m 4ms/step - loss: 0.0032 - mae: 0.0456 - val_loss: 0.0035 - val_mae: 0.0481\n",
      "Epoch 17/20\n",
      "\u001b[1m219/219\u001b[0m \u001b[32m━━━━━━━━━━━━━━━━━━━━\u001b[0m\u001b[37m\u001b[0m \u001b[1m1s\u001b[0m 3ms/step - loss: 0.0033 - mae: 0.0465 - val_loss: 0.0030 - val_mae: 0.0440\n",
      "Epoch 18/20\n",
      "\u001b[1m219/219\u001b[0m \u001b[32m━━━━━━━━━━━━━━━━━━━━\u001b[0m\u001b[37m\u001b[0m \u001b[1m1s\u001b[0m 3ms/step - loss: 0.0032 - mae: 0.0451 - val_loss: 0.0029 - val_mae: 0.0438\n",
      "Epoch 19/20\n",
      "\u001b[1m219/219\u001b[0m \u001b[32m━━━━━━━━━━━━━━━━━━━━\u001b[0m\u001b[37m\u001b[0m \u001b[1m1s\u001b[0m 4ms/step - loss: 0.0032 - mae: 0.0451 - val_loss: 0.0030 - val_mae: 0.0439\n",
      "Epoch 20/20\n",
      "\u001b[1m219/219\u001b[0m \u001b[32m━━━━━━━━━━━━━━━━━━━━\u001b[0m\u001b[37m\u001b[0m \u001b[1m1s\u001b[0m 4ms/step - loss: 0.0031 - mae: 0.0446 - val_loss: 0.0032 - val_mae: 0.0460\n"
     ]
    },
    {
     "data": {
      "text/plain": [
       "<keras.src.callbacks.history.History at 0x2397b6b0510>"
      ]
     },
     "execution_count": 184,
     "metadata": {},
     "output_type": "execute_result"
    }
   ],
   "source": [
    "rnn1.fit(x_train,y_train,epochs=20,validation_data=(x_val,y_val))"
   ]
  },
  {
   "cell_type": "code",
   "execution_count": 185,
   "id": "7251292f-4f52-49d4-81d4-14ca0392080b",
   "metadata": {},
   "outputs": [
    {
     "name": "stdout",
     "output_type": "stream",
     "text": [
      "Test loss: 0.0033538108691573143, Test MAE: 0.046207327395677567\n"
     ]
    }
   ],
   "source": [
    "test_loss,test_mae = rnn1.evaluate(x_test, y_test, verbose=0)\n",
    "print(f\"Test loss: {test_loss}, Test MAE: {test_mae}\")"
   ]
  },
  {
   "cell_type": "markdown",
   "id": "b782b3d0-3fae-4361-a735-08a5f2758de8",
   "metadata": {},
   "source": [
    "## e. Simple RNN with two hidden layers and one output layer. "
   ]
  },
  {
   "cell_type": "code",
   "execution_count": null,
   "id": "fbb78a03-a7ed-4f10-be81-ccc66f6ebc9f",
   "metadata": {},
   "outputs": [],
   "source": []
  },
  {
   "cell_type": "markdown",
   "id": "0fd92385-799d-406a-9388-12485a649659",
   "metadata": {},
   "source": [
    "### c. Simple RNN with one hidden layer and one output layer. (same as previous)\n",
    "## e. Simple RNN with two hidden layers and one output layer. (IMP)\r\n"
   ]
  },
  {
   "cell_type": "code",
   "execution_count": 188,
   "id": "c32ae4f8-3ef2-4714-bedc-0a7184eb4c00",
   "metadata": {},
   "outputs": [],
   "source": [
    "#\n",
    "rnn2 = Sequential([\n",
    "SimpleRNN(20,input_shape=[50, 1],return_sequences=True),\n",
    "SimpleRNN(20,input_shape=[50, 1],return_sequences=False),\n",
    "    Dense(1)\n",
    "])"
   ]
  },
  {
   "cell_type": "code",
   "execution_count": 189,
   "id": "6bcac50c-d9e0-47be-b855-cac86f8fe705",
   "metadata": {},
   "outputs": [],
   "source": [
    "rnn2.compile(optimizer='adam',loss='mse',metrics=['mae'])"
   ]
  },
  {
   "cell_type": "code",
   "execution_count": 190,
   "id": "3456e157-78ef-4919-b671-cc6fdccaea6d",
   "metadata": {},
   "outputs": [
    {
     "name": "stdout",
     "output_type": "stream",
     "text": [
      "Epoch 1/20\n",
      "\u001b[1m219/219\u001b[0m \u001b[32m━━━━━━━━━━━━━━━━━━━━\u001b[0m\u001b[37m\u001b[0m \u001b[1m5s\u001b[0m 10ms/step - loss: 0.0868 - mae: 0.1866 - val_loss: 0.0049 - val_mae: 0.0555\n",
      "Epoch 2/20\n",
      "\u001b[1m219/219\u001b[0m \u001b[32m━━━━━━━━━━━━━━━━━━━━\u001b[0m\u001b[37m\u001b[0m \u001b[1m2s\u001b[0m 8ms/step - loss: 0.0045 - mae: 0.0536 - val_loss: 0.0039 - val_mae: 0.0500\n",
      "Epoch 3/20\n",
      "\u001b[1m219/219\u001b[0m \u001b[32m━━━━━━━━━━━━━━━━━━━━\u001b[0m\u001b[37m\u001b[0m \u001b[1m2s\u001b[0m 8ms/step - loss: 0.0035 - mae: 0.0476 - val_loss: 0.0035 - val_mae: 0.0471\n",
      "Epoch 4/20\n",
      "\u001b[1m219/219\u001b[0m \u001b[32m━━━━━━━━━━━━━━━━━━━━\u001b[0m\u001b[37m\u001b[0m \u001b[1m2s\u001b[0m 8ms/step - loss: 0.0034 - mae: 0.0471 - val_loss: 0.0036 - val_mae: 0.0481\n",
      "Epoch 5/20\n",
      "\u001b[1m219/219\u001b[0m \u001b[32m━━━━━━━━━━━━━━━━━━━━\u001b[0m\u001b[37m\u001b[0m \u001b[1m2s\u001b[0m 8ms/step - loss: 0.0032 - mae: 0.0457 - val_loss: 0.0033 - val_mae: 0.0464\n",
      "Epoch 6/20\n",
      "\u001b[1m219/219\u001b[0m \u001b[32m━━━━━━━━━━━━━━━━━━━━\u001b[0m\u001b[37m\u001b[0m \u001b[1m2s\u001b[0m 8ms/step - loss: 0.0031 - mae: 0.0452 - val_loss: 0.0030 - val_mae: 0.0439\n",
      "Epoch 7/20\n",
      "\u001b[1m219/219\u001b[0m \u001b[32m━━━━━━━━━━━━━━━━━━━━\u001b[0m\u001b[37m\u001b[0m \u001b[1m2s\u001b[0m 7ms/step - loss: 0.0031 - mae: 0.0447 - val_loss: 0.0033 - val_mae: 0.0468\n",
      "Epoch 8/20\n",
      "\u001b[1m219/219\u001b[0m \u001b[32m━━━━━━━━━━━━━━━━━━━━\u001b[0m\u001b[37m\u001b[0m \u001b[1m2s\u001b[0m 7ms/step - loss: 0.0031 - mae: 0.0446 - val_loss: 0.0032 - val_mae: 0.0460\n",
      "Epoch 9/20\n",
      "\u001b[1m219/219\u001b[0m \u001b[32m━━━━━━━━━━━━━━━━━━━━\u001b[0m\u001b[37m\u001b[0m \u001b[1m2s\u001b[0m 8ms/step - loss: 0.0031 - mae: 0.0447 - val_loss: 0.0030 - val_mae: 0.0440\n",
      "Epoch 10/20\n",
      "\u001b[1m219/219\u001b[0m \u001b[32m━━━━━━━━━━━━━━━━━━━━\u001b[0m\u001b[37m\u001b[0m \u001b[1m2s\u001b[0m 8ms/step - loss: 0.0029 - mae: 0.0440 - val_loss: 0.0029 - val_mae: 0.0439\n",
      "Epoch 11/20\n",
      "\u001b[1m219/219\u001b[0m \u001b[32m━━━━━━━━━━━━━━━━━━━━\u001b[0m\u001b[37m\u001b[0m \u001b[1m2s\u001b[0m 8ms/step - loss: 0.0030 - mae: 0.0438 - val_loss: 0.0029 - val_mae: 0.0434\n",
      "Epoch 12/20\n",
      "\u001b[1m219/219\u001b[0m \u001b[32m━━━━━━━━━━━━━━━━━━━━\u001b[0m\u001b[37m\u001b[0m \u001b[1m2s\u001b[0m 8ms/step - loss: 0.0029 - mae: 0.0437 - val_loss: 0.0029 - val_mae: 0.0430\n",
      "Epoch 13/20\n",
      "\u001b[1m219/219\u001b[0m \u001b[32m━━━━━━━━━━━━━━━━━━━━\u001b[0m\u001b[37m\u001b[0m \u001b[1m2s\u001b[0m 8ms/step - loss: 0.0030 - mae: 0.0437 - val_loss: 0.0034 - val_mae: 0.0474\n",
      "Epoch 14/20\n",
      "\u001b[1m219/219\u001b[0m \u001b[32m━━━━━━━━━━━━━━━━━━━━\u001b[0m\u001b[37m\u001b[0m \u001b[1m2s\u001b[0m 8ms/step - loss: 0.0028 - mae: 0.0428 - val_loss: 0.0031 - val_mae: 0.0453\n",
      "Epoch 15/20\n",
      "\u001b[1m219/219\u001b[0m \u001b[32m━━━━━━━━━━━━━━━━━━━━\u001b[0m\u001b[37m\u001b[0m \u001b[1m2s\u001b[0m 8ms/step - loss: 0.0029 - mae: 0.0430 - val_loss: 0.0032 - val_mae: 0.0460\n",
      "Epoch 16/20\n",
      "\u001b[1m219/219\u001b[0m \u001b[32m━━━━━━━━━━━━━━━━━━━━\u001b[0m\u001b[37m\u001b[0m \u001b[1m2s\u001b[0m 8ms/step - loss: 0.0028 - mae: 0.0430 - val_loss: 0.0028 - val_mae: 0.0430\n",
      "Epoch 17/20\n",
      "\u001b[1m219/219\u001b[0m \u001b[32m━━━━━━━━━━━━━━━━━━━━\u001b[0m\u001b[37m\u001b[0m \u001b[1m2s\u001b[0m 7ms/step - loss: 0.0029 - mae: 0.0433 - val_loss: 0.0029 - val_mae: 0.0439\n",
      "Epoch 18/20\n",
      "\u001b[1m219/219\u001b[0m \u001b[32m━━━━━━━━━━━━━━━━━━━━\u001b[0m\u001b[37m\u001b[0m \u001b[1m2s\u001b[0m 8ms/step - loss: 0.0028 - mae: 0.0426 - val_loss: 0.0032 - val_mae: 0.0456\n",
      "Epoch 19/20\n",
      "\u001b[1m219/219\u001b[0m \u001b[32m━━━━━━━━━━━━━━━━━━━━\u001b[0m\u001b[37m\u001b[0m \u001b[1m2s\u001b[0m 8ms/step - loss: 0.0029 - mae: 0.0437 - val_loss: 0.0027 - val_mae: 0.0421\n",
      "Epoch 20/20\n",
      "\u001b[1m219/219\u001b[0m \u001b[32m━━━━━━━━━━━━━━━━━━━━\u001b[0m\u001b[37m\u001b[0m \u001b[1m2s\u001b[0m 8ms/step - loss: 0.0029 - mae: 0.0436 - val_loss: 0.0029 - val_mae: 0.0437\n"
     ]
    },
    {
     "data": {
      "text/plain": [
       "<keras.src.callbacks.history.History at 0x2397cef0fd0>"
      ]
     },
     "execution_count": 190,
     "metadata": {},
     "output_type": "execute_result"
    }
   ],
   "source": [
    "rnn2.fit(x_train,y_train,epochs=20,validation_data=(x_val,y_val))"
   ]
  },
  {
   "cell_type": "code",
   "execution_count": 192,
   "id": "3847993b-083e-4705-8b6a-12e5c7caf1f4",
   "metadata": {},
   "outputs": [
    {
     "name": "stdout",
     "output_type": "stream",
     "text": [
      "Test loss: 0.0029134443029761314, Test MAE: 0.04349382221698761\n"
     ]
    }
   ],
   "source": [
    "test_loss,test_mae = rnn2.evaluate(x_test, y_test, verbose=0)\n",
    "print(f\"Test loss: {test_loss}, Test MAE: {test_mae}\")"
   ]
  }
 ],
 "metadata": {
  "kernelspec": {
   "display_name": "Python 3 (ipykernel)",
   "language": "python",
   "name": "python3"
  },
  "language_info": {
   "codemirror_mode": {
    "name": "ipython",
    "version": 3
   },
   "file_extension": ".py",
   "mimetype": "text/x-python",
   "name": "python",
   "nbconvert_exporter": "python",
   "pygments_lexer": "ipython3",
   "version": "3.11.7"
  }
 },
 "nbformat": 4,
 "nbformat_minor": 5
}
